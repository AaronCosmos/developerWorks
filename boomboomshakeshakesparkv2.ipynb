{
 "cells": [
  {
   "cell_type": "code",
   "execution_count": 5,
   "metadata": {},
   "outputs": [
    {
     "data": {
      "text/plain": [
       "<bound method DataFrame.printSchema of DataFrame[_id: string, _rev: string, ax: double, ay: double, az: double, id: string, oa: double, ob: double, og: double, ts: bigint]>"
      ]
     },
     "execution_count": 5,
     "metadata": {},
     "output_type": "execute_result"
    }
   ],
   "source": []
  },
  {
   "cell_type": "code",
   "execution_count": null,
   "metadata": {
    "collapsed": true
   },
   "outputs": [],
   "source": [
    "sparkSession = SQLContext.getOrCreate(sc).sparkSession\n",
    "\n",
    "cloudantdata=sparkSession.read.format(\"com.cloudant.spark\"). \\\n",
    "option(\"cloudant.host\",\"0495289b-1beb-4e6d-888e-315f36925447-bluemix.cloudant.com\"). \\\n",
    "option(\"cloudant.username\", \"0495289b-1beb-4e6d-888e-315f36925447-bluemix\"). \\\n",
    "option(\"cloudant.password\", \"0b7338d23c08afaf12b2a40fdcd5999a8826f0d8dc7b9726f051174d93a36de9\"). \\\n",
    "load(\"wirelessmunich17\")\n",
    "\n",
    "cloudantdata.createOrReplaceTempView(\"openspace\")\n",
    "cloudantdata.printSchema"
   ]
  },
  {
   "cell_type": "code",
   "execution_count": 6,
   "metadata": {},
   "outputs": [
    {
     "name": "stdout",
     "output_type": "stream",
     "text": [
      "+-----------------+---+\n",
      "|           energy| id|\n",
      "+-----------------+---+\n",
      "|365.2523401704635| YG|\n",
      "|313.4450425513219| FH|\n",
      "|              0.0| df|\n",
      "+-----------------+---+\n",
      "\n"
     ]
    }
   ],
   "source": [
    "spark.sql(\"select sqrt(sum(ax*ax)+sum(ay*ay)+sum(az*az)) as energy, id from openspace group by id order by energy desc\").show()"
   ]
  },
  {
   "cell_type": "code",
   "execution_count": null,
   "metadata": {
    "collapsed": true
   },
   "outputs": [],
   "source": [
    "cloudantdata.rdd.map(lambda row : (row.id,row.ay,float(row.ax))).take(10)"
   ]
  },
  {
   "cell_type": "code",
   "execution_count": 9,
   "metadata": {},
   "outputs": [
    {
     "data": {
      "text/plain": [
       "1637"
      ]
     },
     "execution_count": 9,
     "metadata": {},
     "output_type": "execute_result"
    }
   ],
   "source": [
    "cloudantdata.count()"
   ]
  },
  {
   "cell_type": "code",
   "execution_count": null,
   "metadata": {
    "collapsed": true
   },
   "outputs": [],
   "source": [
    "\n",
    "sparkSession = SQLContext.getOrCreate(sc).sparkSession\n",
    "\n",
    "cloudantdata=sparkSession.read.format(\"com.cloudant.spark\"). \\\n",
    "option(\"cloudant.host\",\"0495289b-1beb-4e6d-888e-315f36925447-bluemix.cloudant.com\"). \\\n",
    "option(\"cloudant.username\", \"0495289b-1beb-4e6d-888e-315f36925447-bluemix\"). \\\n",
    "option(\"cloudant.password\", \"0b7338d23c08afaf12b2a40fdcd5999a8826f0d8dc7b9726f051174d93a36de9\"). \\\n",
    "load(\"meetup7217\")\n",
    "\n"
   ]
  },
  {
   "cell_type": "code",
   "execution_count": null,
   "metadata": {
    "collapsed": true
   },
   "outputs": [],
   "source": [
    "cloudantdata.createOrReplaceTempView(\"meetup7217\")\n",
    "spark.sql(\"select count(voltage) from meetup7217 where voltage > 258\").show()"
   ]
  },
  {
   "cell_type": "code",
   "execution_count": null,
   "metadata": {
    "collapsed": true
   },
   "outputs": [],
   "source": [
    "cloudantdata.count()"
   ]
  },
  {
   "cell_type": "code",
   "execution_count": null,
   "metadata": {
    "collapsed": true
   },
   "outputs": [],
   "source": [
    "cloudantdata.printSchema"
   ]
  },
  {
   "cell_type": "code",
   "execution_count": null,
   "metadata": {
    "collapsed": true
   },
   "outputs": [],
   "source": []
  }
 ],
 "metadata": {
  "kernelspec": {
   "display_name": "Python 2 with Spark 2.0",
   "language": "python",
   "name": "python2-spark20"
  },
  "language_info": {
   "codemirror_mode": {
    "name": "ipython",
    "version": 2
   },
   "file_extension": ".py",
   "mimetype": "text/x-python",
   "name": "python",
   "nbconvert_exporter": "python",
   "pygments_lexer": "ipython2",
   "version": "2.7.11"
  }
 },
 "nbformat": 4,
 "nbformat_minor": 1
}
