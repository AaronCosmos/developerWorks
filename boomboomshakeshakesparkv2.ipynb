{
 "cells": [
  {
   "cell_type": "code",
   "execution_count": null,
   "metadata": {
    "collapsed": true
   },
   "outputs": [],
   "source": [
    "#PLEASE INSERT TO CREDENTIALS TO CLOUDANT HERE USING THE IBM DATA SCIENCE EXPERIENCE CONNECTIONS TAB RIGHT TO THIS NOTEBOOK\n"
   ]
  },
  {
   "cell_type": "code",
   "execution_count": null,
   "metadata": {},
   "outputs": [],
   "source": [
    "sparkSession = SQLContext.getOrCreate(sc).sparkSession\n",
    "\n",
    "cloudantdata=sparkSession.read.format(\"com.cloudant.spark\"). \\\n",
    "option(\"cloudant.host\",credentials_1['host']). \\\n",
    "option(\"cloudant.username\", credentials_1['username']). \\\n",
    "option(\"cloudant.password\", credentials_1['password']). \\\n",
    "load(\"harlemshake\")\n",
    "\n",
    "cloudantdata.createOrReplaceTempView(\"data\")\n",
    "cloudantdata.printSchema"
   ]
  },
  {
   "cell_type": "code",
   "execution_count": null,
   "metadata": {},
   "outputs": [],
   "source": [
    "spark.sql(\"select sqrt(sum(X*X)+sum(Y*Y)+sum(Z*Z)) as energy, SENSORID from data group by SENSORID order by energy desc\").show()"
   ]
  }
 ],
 "metadata": {
  "kernelspec": {
   "display_name": "Python 2 with Spark 2.0",
   "language": "python",
   "name": "python2-spark20"
  },
  "language_info": {
   "codemirror_mode": {
    "name": "ipython",
    "version": 2
   },
   "file_extension": ".py",
   "mimetype": "text/x-python",
   "name": "python",
   "nbconvert_exporter": "python",
   "pygments_lexer": "ipython2",
   "version": "2.7.11"
  }
 },
 "nbformat": 4,
 "nbformat_minor": 1
}
