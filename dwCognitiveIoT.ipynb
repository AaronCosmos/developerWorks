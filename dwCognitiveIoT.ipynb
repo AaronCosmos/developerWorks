{
 "cells": [
  {
   "cell_type": "code",
   "execution_count": 1,
   "metadata": {
    "collapsed": true
   },
   "outputs": [],
   "source": [
    "def readDataFrameFromCloudant(host,user,pw,database):\n",
    "    sparkSession = SQLContext.getOrCreate(sc).sparkSession\n",
    "\n",
    "    cloudantdata=sparkSession.read.format(\"com.cloudant.spark\"). \\\n",
    "    option(\"cloudant.host\",host). \\\n",
    "    option(\"cloudant.username\", user). \\\n",
    "    option(\"cloudant.password\", pw). \\\n",
    "    load(database)\n",
    "\n",
    "    cloudantdata.createOrReplaceTempView(\"washing\")\n",
    "    spark.sql(\"SELECT * from washing\").show()\n",
    "    return cloudantdata"
   ]
  },
  {
   "cell_type": "code",
   "execution_count": null,
   "metadata": {
    "collapsed": true
   },
   "outputs": [],
   "source": [
    "#TODO Please provide your Cloudant credentials here\n",
    "hostname = \"thisIsTheHostNameOfYourCloudantServiceInBluemix\"\n",
    "user = \"thisIsTheUserNameOfYourCloudantServiceInBluemix\"\n",
    "pw = \"thisIsThePasswordOfYourCloudantServiceInBluemix\"\n",
    "database = \"washing\" #as long as you didn't change this in the NodeRED flow the database name stays the same\n",
    "cloudantdata=readDataFrameFromCloudant(hostname, user, pw, database)"
   ]
  }
 ],
 "metadata": {
  "kernelspec": {
   "display_name": "Python 2 with Spark 2.0",
   "language": "python",
   "name": "python2-spark20"
  },
  "language_info": {
   "codemirror_mode": {
    "name": "ipython",
    "version": 2
   },
   "file_extension": ".py",
   "mimetype": "text/x-python",
   "name": "python",
   "nbconvert_exporter": "python",
   "pygments_lexer": "ipython2",
   "version": "2.7.11"
  }
 },
 "nbformat": 4,
 "nbformat_minor": 0
}