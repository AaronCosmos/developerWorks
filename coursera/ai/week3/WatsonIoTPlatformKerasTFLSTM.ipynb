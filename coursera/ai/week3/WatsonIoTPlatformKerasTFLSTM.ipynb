{
 "cells": [
  {
   "cell_type": "code",
   "execution_count": null,
   "metadata": {},
   "outputs": [],
   "source": [
    "import numpy as np\n",
    "from numpy import concatenate\n",
    "from matplotlib import pyplot\n",
    "from pandas import read_csv\n",
    "from pandas import DataFrame\n",
    "from pandas import concat\n",
    "import sklearn\n",
    "from  sklearn.preprocessing import MinMaxScaler\n",
    "from sklearn.preprocessing import MinMaxScaler\n",
    "from sklearn.preprocessing import LabelEncoder\n",
    "from sklearn.metrics import mean_squared_error\n",
    "from keras.models import Sequential\n",
    "from keras.layers import Dense\n",
    "from keras.layers import LSTM\n",
    "from keras.callbacks import Callback\n",
    "from keras.models import Sequential\n",
    "from keras.layers import LSTM, Dense, Activation\n",
    "import pickle\n",
    "import matplotlib.pyplot as plt\n",
    "from mpl_toolkits.mplot3d import Axes3D\n",
    "import ibmiotf.application\n",
    "from Queue import Queue\n",
    "%matplotlib inline"
   ]
  },
  {
   "cell_type": "code",
   "execution_count": null,
   "metadata": {
    "collapsed": true
   },
   "outputs": [],
   "source": [
    "#!pip install keras\n",
    "#!pip install ibmiotf"
   ]
  },
  {
   "cell_type": "code",
   "execution_count": null,
   "metadata": {
    "collapsed": true
   },
   "outputs": [],
   "source": [
    "!rm watsoniotp.*\n",
    "!wget http://www.romeokienzler.com/watsoniotp.healthy.pickle\n",
    "!wget http://www.romeokienzler.com/watsoniotp.broken.pickle"
   ]
  },
  {
   "cell_type": "code",
   "execution_count": 4,
   "metadata": {
    "collapsed": true
   },
   "outputs": [],
   "source": [
    "data_healthy = pickle.load(open('watsoniotp.healthy.pickle', 'rb'))\n",
    "data_broken = pickle.load(open('watsoniotp.broken.pickle', 'rb'))"
   ]
  },
  {
   "cell_type": "code",
   "execution_count": 5,
   "metadata": {
    "collapsed": true
   },
   "outputs": [],
   "source": [
    "data_healthy = data_healthy.reshape(3000,3)\n",
    "data_broken = data_broken.reshape(3000,3)"
   ]
  },
  {
   "cell_type": "code",
   "execution_count": null,
   "metadata": {
    "collapsed": true
   },
   "outputs": [],
   "source": [
    "fig, ax = plt.subplots(num=None, figsize=(14, 6), dpi=80, facecolor='w', edgecolor='k')\n",
    "size = len(data_healthy)\n",
    "#ax.set_ylim(0,energy.max())\n",
    "ax.plot(range(0,size), data_healthy[:,0], '-', color='blue', animated = True, linewidth=1)\n",
    "ax.plot(range(0,size), data_healthy[:,1], '-', color='red', animated = True, linewidth=1)\n",
    "ax.plot(range(0,size), data_healthy[:,2], '-', color='green', animated = True, linewidth=1)"
   ]
  },
  {
   "cell_type": "code",
   "execution_count": null,
   "metadata": {
    "collapsed": true
   },
   "outputs": [],
   "source": [
    "fig, ax = plt.subplots(num=None, figsize=(14, 6), dpi=80, facecolor='w', edgecolor='k')\n",
    "size = len(data_healthy)\n",
    "#ax.set_ylim(0,energy.max())\n",
    "ax.plot(range(0,size), data_broken[:,0], '-', color='blue', animated = True, linewidth=1)\n",
    "ax.plot(range(0,size), data_broken[:,1], '-', color='red', animated = True, linewidth=1)\n",
    "ax.plot(range(0,size), data_broken[:,2], '-', color='green', animated = True, linewidth=1)"
   ]
  },
  {
   "cell_type": "code",
   "execution_count": 6,
   "metadata": {
    "collapsed": true
   },
   "outputs": [],
   "source": [
    "data_healthy_fft = np.fft.fft(data_healthy)\n",
    "data_broken_fft = np.fft.fft(data_broken)"
   ]
  },
  {
   "cell_type": "code",
   "execution_count": null,
   "metadata": {
    "collapsed": true
   },
   "outputs": [],
   "source": [
    "fig, ax = plt.subplots(num=None, figsize=(14, 6), dpi=80, facecolor='w', edgecolor='k')\n",
    "size = len(data_healthy_fft)\n",
    "ax.plot(range(0,size), data_healthy_fft[:,0].real, '-', color='blue', animated = True, linewidth=1)\n",
    "ax.plot(range(0,size), data_healthy_fft[:,1].imag, '-', color='red', animated = True, linewidth=1)\n",
    "ax.plot(range(0,size), data_healthy_fft[:,2].real, '-', color='green', animated = True, linewidth=1)\n"
   ]
  },
  {
   "cell_type": "code",
   "execution_count": null,
   "metadata": {
    "collapsed": true
   },
   "outputs": [],
   "source": [
    "fig, ax = plt.subplots(num=None, figsize=(14, 6), dpi=80, facecolor='w', edgecolor='k')\n",
    "size = len(data_healthy_fft)\n",
    "ax.plot(range(0,size), data_broken_fft[:,0].real, '-', color='blue', animated = True, linewidth=1)\n",
    "ax.plot(range(0,size), data_broken_fft[:,1].imag, '-', color='red', animated = True, linewidth=1)\n",
    "ax.plot(range(0,size), data_broken_fft[:,2].real, '-', color='green', animated = True, linewidth=1)\n"
   ]
  },
  {
   "cell_type": "code",
   "execution_count": 7,
   "metadata": {
    "collapsed": true
   },
   "outputs": [],
   "source": [
    "def scaleData(data):\n",
    "    # normalize features\n",
    "    scaler = MinMaxScaler(feature_range=(0, 1))\n",
    "    return scaler.fit_transform(data)"
   ]
  },
  {
   "cell_type": "code",
   "execution_count": 8,
   "metadata": {
    "collapsed": true
   },
   "outputs": [],
   "source": [
    "data_healthy_scaled = scaleData(data_healthy)\n",
    "data_broken_scaled = scaleData(data_broken)"
   ]
  },
  {
   "cell_type": "code",
   "execution_count": 9,
   "metadata": {
    "collapsed": true
   },
   "outputs": [],
   "source": [
    "timesteps = 10\n",
    "dim = 3\n",
    "samples = 3000\n",
    "data_healthy_scaled_reshaped = data_healthy_scaled\n",
    "#reshape to (300,10,3)\n",
    "data_healthy_scaled_reshaped.shape = (samples/timesteps,timesteps,dim)"
   ]
  },
  {
   "cell_type": "code",
   "execution_count": 10,
   "metadata": {
    "collapsed": true
   },
   "outputs": [],
   "source": [
    "losses = []\n",
    "\n",
    "def handleLoss(loss):\n",
    "        global losses\n",
    "        losses+=[loss]\n",
    "        print loss"
   ]
  },
  {
   "cell_type": "code",
   "execution_count": 11,
   "metadata": {
    "collapsed": true
   },
   "outputs": [],
   "source": [
    "class LossHistory(Callback):\n",
    "    def on_train_begin(self, logs={}):\n",
    "        self.losses = []\n",
    "\n",
    "    def on_batch_end(self, batch, logs={}):\n",
    "        self.losses.append(logs.get('loss'))\n",
    "        handleLoss(logs.get('loss'))"
   ]
  },
  {
   "cell_type": "code",
   "execution_count": 12,
   "metadata": {
    "collapsed": true
   },
   "outputs": [],
   "source": [
    "# design network\n",
    "\n",
    "model = Sequential()\n",
    "model.add(LSTM(50,input_shape=(timesteps,dim),return_sequences=True))\n",
    "model.add(LSTM(50,input_shape=(timesteps,dim),return_sequences=True))\n",
    "model.add(LSTM(50,input_shape=(timesteps,dim),return_sequences=True))\n",
    "model.add(LSTM(50,input_shape=(timesteps,dim),return_sequences=True))\n",
    "model.add(LSTM(50,input_shape=(timesteps,dim),return_sequences=True))\n",
    "model.add(LSTM(50,input_shape=(timesteps,dim),return_sequences=True))\n",
    "model.add(LSTM(50,input_shape=(timesteps,dim),return_sequences=True))\n",
    "model.add(LSTM(50,input_shape=(timesteps,dim),return_sequences=True))\n",
    "model.add(LSTM(50,input_shape=(timesteps,dim),return_sequences=True))\n",
    "model.add(LSTM(50,input_shape=(timesteps,dim),return_sequences=True))\n",
    "model.add(LSTM(50,input_shape=(timesteps,dim),return_sequences=True))\n",
    "model.add(Dense(3))\n",
    "model.compile(loss='mae', optimizer='adam')\n",
    "\n",
    "def train(data):\n",
    "    data.shape = (300, 10, 3)\n",
    "    model.fit(data, data, epochs=50, batch_size=72, validation_data=(data, data), verbose=0, shuffle=False,callbacks=[LossHistory()])\n",
    "    data.shape = (3000, 3)\n",
    "\n",
    "def score(data):\n",
    "    data.shape = (300, 10, 3)\n",
    "    yhat =  model.predict(data)\n",
    "    yhat.shape = (3000, 3)\n",
    "    return yhat"
   ]
  },
  {
   "cell_type": "code",
   "execution_count": null,
   "metadata": {
    "collapsed": true
   },
   "outputs": [],
   "source": [
    "for i in range(20):\n",
    "    \n",
    "    print \"----------------\"\n",
    "    train(data_healthy_scaled)\n",
    "    yhat_healthy = score(data_healthy_scaled)\n",
    "    yhat_broken = score(data_broken_scaled)\n",
    "    data_healthy_scaled.shape = (3000, 3)\n",
    "    data_broken_scaled.shape = (3000, 3)\n",
    "\n",
    "\n",
    "print \"----------------broken\"\n",
    "train(data_broken_scaled)\n",
    "yhat_healthy = score(data_healthy_scaled)\n",
    "yhat_broken = score(data_broken_scaled)\n",
    "data_healthy_scaled.shape = (3000, 3)\n",
    "data_broken_scaled.shape = (3000, 3)"
   ]
  },
  {
   "cell_type": "code",
   "execution_count": null,
   "metadata": {
    "collapsed": true
   },
   "outputs": [],
   "source": [
    "fig, ax = plt.subplots(num=None, figsize=(14, 6), dpi=80, facecolor='w', edgecolor='k')\n",
    "size = len(data_healthy_fft)\n",
    "#ax.set_ylim(0,energy.max())\n",
    "ax.plot(range(0,len(losses)), losses, '-', color='blue', animated = True, linewidth=1)"
   ]
  },
  {
   "cell_type": "code",
   "execution_count": 13,
   "metadata": {},
   "outputs": [
    {
     "name": "stderr",
     "output_type": "stream",
     "text": [
      "2017-12-05 08:04:24,267   ibmiotf.application.Client  INFO    Connected successfully: a:mh741h:anything\n"
     ]
    }
   ],
   "source": [
    "options = {\"org\": \"mh741h\", \"id\": \"anything\", \"auth-method\": \"apikey\", \"auth-key\": \"a-mh741h-hwv6qlpmsv\", \"auth-token\": \"zBcbK&rKTfbW*OfneW\"}\n",
    "client = ibmiotf.application.Client(options)\n",
    "client.connect()"
   ]
  },
  {
   "cell_type": "code",
   "execution_count": 14,
   "metadata": {
    "collapsed": true
   },
   "outputs": [],
   "source": [
    "q = Queue(7000)"
   ]
  },
  {
   "cell_type": "code",
   "execution_count": 15,
   "metadata": {},
   "outputs": [
    {
     "data": {
      "text/plain": [
       "True"
      ]
     },
     "execution_count": 15,
     "metadata": {},
     "output_type": "execute_result"
    }
   ],
   "source": [
    "def myEventCallback(event):\n",
    "    sample = event.data\n",
    "    point = [sample[\"x\"], sample[\"y\"],sample[\"z\"]]\n",
    "    q.put(point)\n",
    "\n",
    "client.deviceEventCallback = myEventCallback\n",
    "client.subscribeToDeviceEvents(\"0.16.2\", \"lorenz\", \"osc\")"
   ]
  },
  {
   "cell_type": "code",
   "execution_count": 16,
   "metadata": {
    "collapsed": true
   },
   "outputs": [],
   "source": [
    "def doNN(data):\n",
    "    data_scaled = scaleData(data)\n",
    "    train(data_scaled)\n",
    "    yhat = score(data_scaled)\n",
    "    data_scaled.shape = (3000, 3)"
   ]
  },
  {
   "cell_type": "code",
   "execution_count": 17,
   "metadata": {
    "collapsed": true
   },
   "outputs": [],
   "source": [
    "def handleLoss(loss):\n",
    "        myData={'loss' : str(loss)}\n",
    "        client.publishEvent(\"0.16.2\", \"lorenz\", \"status\", \"json\", myData)"
   ]
  },
  {
   "cell_type": "code",
   "execution_count": null,
   "metadata": {},
   "outputs": [
    {
     "name": "stdout",
     "output_type": "stream",
     "text": [
      "[[  0.87143336   1.96590502  18.7006503 ]\n",
      " [  0.9589911    2.02152173  18.31721207]\n",
      " [  1.04399355   2.0862197   17.94386888]\n",
      " ..., \n",
      " [  0.14784073  -0.53015609  18.59037595]\n",
      " [  0.09360099  -0.51886884  18.19339273]\n",
      " [  0.0446034   -0.51121862  17.8050846 ]]\n",
      "[[ -1.03830718  -0.74358666  18.6200928 ]\n",
      " [ -1.01472954  -0.81378251  18.22947031]\n",
      " [ -0.99865377  -0.88533127  17.84764806]\n",
      " ..., \n",
      " [  3.06345968   4.95536775  16.85736413]\n",
      " [  3.21481232   5.20229667  16.63153562]\n",
      " [  3.37381107   5.4675187   16.42430053]]\n",
      "[[ -2.72332763  -4.67450545  12.99067506]\n",
      " [ -2.87942185  -4.98285483  12.82832259]\n",
      " [ -3.04769649  -5.31290134  12.68418859]\n",
      " ..., \n",
      " [ -5.21332041  -7.42844228  21.72945396]\n",
      " [ -5.39053016  -7.63942728  21.59533678]\n",
      " [ -5.57044193  -7.8637263   21.48507171]]\n",
      "[[ -3.78092708  -5.97059031  17.49889774]\n",
      " [ -3.95610014  -6.25517289  17.32355664]\n",
      " [ -4.14002596  -6.55873753  17.17121418]\n",
      " ..., \n",
      " [ -2.08169919  -3.04142026  15.83048505]\n",
      " [ -2.15847688  -3.22722983  15.54849524]\n",
      " [ -2.24397711  -3.42493912  15.27827789]]\n",
      "[[ -7.26971938  -0.830046    32.14519495]\n",
      " [ -6.75454551  -0.59941437  31.49182096]\n",
      " [ -6.26213502  -0.41968902  30.84102064]\n",
      " ..., \n",
      " [ 15.22443578  23.97675885  27.27936752]\n",
      " [ 15.92462162  23.87675117  29.73923351]\n",
      " [ 16.56079199  23.45531249  32.21230493]]\n",
      "[[  18.37351211   29.42308042   86.94515618]\n",
      " [  21.0254085    36.09325468   86.52425458]\n",
      " [  24.64169158   43.98076885   88.73386124]\n",
      " ..., \n",
      " [  43.47703578    9.04560123  154.88016491]\n",
      " [  35.21349149    1.40088075  143.71041849]\n",
      " [  27.09846491   -2.01615209  132.54296356]]\n"
     ]
    }
   ],
   "source": [
    "import numpy as np\n",
    "while True:\n",
    "    while not q.empty():\n",
    "        point = q.get()\n",
    "        try:\n",
    "            data\n",
    "        except NameError:\n",
    "            data = np.array(point)\n",
    "        else:\n",
    "            data = np.append(data,point)\n",
    "        if data.size>=9000:\n",
    "            data = np.reshape(data,(3000,3))\n",
    "            print data\n",
    "            doNN(data)\n",
    "            del data\n"
   ]
  },
  {
   "cell_type": "code",
   "execution_count": null,
   "metadata": {
    "collapsed": true
   },
   "outputs": [],
   "source": [
    "q.qsize()"
   ]
  },
  {
   "cell_type": "code",
   "execution_count": null,
   "metadata": {
    "collapsed": true
   },
   "outputs": [],
   "source": [
    "del data"
   ]
  },
  {
   "cell_type": "code",
   "execution_count": null,
   "metadata": {
    "collapsed": true
   },
   "outputs": [],
   "source": [
    "data.size"
   ]
  },
  {
   "cell_type": "code",
   "execution_count": null,
   "metadata": {
    "collapsed": true
   },
   "outputs": [],
   "source": [
    "!pip install h5py"
   ]
  },
  {
   "cell_type": "code",
   "execution_count": null,
   "metadata": {
    "collapsed": true
   },
   "outputs": [],
   "source": [
    "import paho.mqtt.client as mqtt"
   ]
  },
  {
   "cell_type": "code",
   "execution_count": null,
   "metadata": {
    "collapsed": true
   },
   "outputs": [],
   "source": [
    "\n",
    "def on_message(client, userdata, message):\n",
    "    raw = message.payload.decode(\"utf-8\")\n",
    "    sample = json.loads(raw)\n",
    "    point = [sample[\"x\"], sample[\"y\"],sample[\"z\"]]\n",
    "    q.put(point)\n",
    "    \n",
    "client=mqtt.Client()\n",
    "client.connect(\"localhost\",1883,60)\n",
    "client.on_message=on_message\n",
    "client.subscribe(\"lorenz\")\n",
    "client.loop_start()"
   ]
  },
  {
   "cell_type": "code",
   "execution_count": null,
   "metadata": {
    "collapsed": true
   },
   "outputs": [],
   "source": [
    "import json"
   ]
  },
  {
   "cell_type": "code",
   "execution_count": null,
   "metadata": {
    "collapsed": true
   },
   "outputs": [],
   "source": [
    "q.qsize()"
   ]
  },
  {
   "cell_type": "code",
   "execution_count": null,
   "metadata": {
    "collapsed": true
   },
   "outputs": [],
   "source": [
    "point['x']"
   ]
  },
  {
   "cell_type": "code",
   "execution_count": null,
   "metadata": {
    "collapsed": true
   },
   "outputs": [],
   "source": [
    "client.disconnect() #disconnect\n",
    "client.loop_stop() #stop loop"
   ]
  },
  {
   "cell_type": "code",
   "execution_count": null,
   "metadata": {
    "collapsed": true
   },
   "outputs": [],
   "source": [
    "client.publish(\"mytopic/can/be/nested\",\"anything will do incl. binary\")"
   ]
  },
  {
   "cell_type": "code",
   "execution_count": 1,
   "metadata": {},
   "outputs": [
    {
     "name": "stdout",
     "output_type": "stream",
     "text": [
      "spark://yp-spark-dal09-env5-0048:7089\r\n"
     ]
    }
   ],
   "source": [
    "!echo $MASTER"
   ]
  },
  {
   "cell_type": "code",
   "execution_count": null,
   "metadata": {},
   "outputs": [],
   "source": []
  }
 ],
 "metadata": {
  "kernelspec": {
   "display_name": "Python 2 with Spark 2.1",
   "language": "python",
   "name": "python2-spark21"
  },
  "language_info": {
   "codemirror_mode": {
    "name": "ipython",
    "version": 2
   },
   "file_extension": ".py",
   "mimetype": "text/x-python",
   "name": "python",
   "nbconvert_exporter": "python",
   "pygments_lexer": "ipython2",
   "version": "2.7.11"
  }
 },
 "nbformat": 4,
 "nbformat_minor": 1
}
