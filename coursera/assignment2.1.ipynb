{
 "cells": [
  {
   "cell_type": "code",
   "execution_count": 31,
   "metadata": {
    "collapsed": false
   },
   "outputs": [],
   "source": [
    "def readDataFrameFromCloudant(host,user,pw,database):\n",
    "    sparkSession = SQLContext.getOrCreate(sc).sparkSession\n",
    "\n",
    "    cloudantdata=sparkSession.read.format(\"com.cloudant.spark\"). \\\n",
    "    option(\"cloudant.host\",host). \\\n",
    "    option(\"cloudant.username\", user). \\\n",
    "    option(\"cloudant.password\", pw). \\\n",
    "    load(database)\n",
    "\n",
    "    cloudantdata.createOrReplaceTempView(\"washing\")\n",
    "    spark.sql(\"SELECT * from washing\").show()\n",
    "    return cloudantdata"
   ]
  },
  {
   "cell_type": "code",
   "execution_count": null,
   "metadata": {
    "collapsed": true
   },
   "outputs": [],
   "source": [
    "def count(df):\n",
    "    return df.count()"
   ]
  },
  {
   "cell_type": "code",
   "execution_count": 40,
   "metadata": {
    "collapsed": true
   },
   "outputs": [],
   "source": [
    "def getNumberOfFields(df):\n",
    "    return len(df.schema)"
   ]
  },
  {
   "cell_type": "code",
   "execution_count": 46,
   "metadata": {
    "collapsed": true
   },
   "outputs": [],
   "source": [
    "def getFieldNames(df):\n",
    "    result = list()\n",
    "    for field in df.schema:\n",
    "        result.append(field.name)\n",
    "    return result"
   ]
  },
  {
   "cell_type": "code",
   "execution_count": 52,
   "metadata": {
    "collapsed": false
   },
   "outputs": [
    {
     "name": "stdout",
     "output_type": "stream",
     "text": [
      "+--------------------+--------------------+-----+--------+----------+---------+--------+-----+-----------+-------------+-------+\n",
      "|                 _id|                _rev|count|flowrate|fluidlevel|frequency|hardness|speed|temperature|           ts|voltage|\n",
      "+--------------------+--------------------+-----+--------+----------+---------+--------+-----+-----------+-------------+-------+\n",
      "|00433543cd1b9c6f4...|1-56a9192009049c7...| 2493|    null|      null|     null|    null| 1259|       null|1480435851831|   null|\n",
      "|00433543cd1b9c6f4...|1-d335fa3bddcf4aa...| 4155|    null|      null|       72|    null| null|       null|1480435854844|    237|\n",
      "|00433543cd1b9c6f4...|1-348922ba236fa02...|12464|      11|acceptable|     null|     105| null|         99|1480435871046|   null|\n",
      "|00433543cd1b9c6f4...|1-52ecbdba397f70b...|12468|      11|acceptable|     null|     125| null|         95|1480435875052|   null|\n",
      "|00433543cd1b9c6f4...|1-90a7e486051f07c...| 2499|    null|      null|     null|    null| 1298|       null|1480435881841|   null|\n",
      "|00433543cd1b9c6f4...|1-000fd8f5457cea8...|12478|      11|acceptable|     null|     175| null|        100|1480435885069|   null|\n",
      "|00433543cd1b9c6f4...|1-9ded0b0acd53716...| 2502|    null|      null|     null|    null| 1084|       null|1480435896845|   null|\n",
      "|00433543cd1b9c6f4...|1-379bb80aac977a7...|12500|      11|acceptable|     null|      77| null|         87|1480435907109|   null|\n",
      "|00433543cd1b9c6f4...|1-91984d5ddab7c1e...|12502|      11|acceptable|     null|      71| null|         86|1480435909113|   null|\n",
      "|00433543cd1b9c6f4...|1-33f4e9733e9c345...|12519|      11|acceptable|     null|      76| null|         85|1480435926143|   null|\n",
      "|00433543cd1b9c6f4...|1-4c6ba82ea579a06...|12520|      11|acceptable|     null|      76| null|         97|1480435927144|   null|\n",
      "|00433543cd1b9c6f4...|1-3a0ec91bff1d804...| 2512|    null|      null|     null|    null| 1023|       null|1480435946862|   null|\n",
      "|00433543cd1b9c6f4...|1-8d93424b0b9957b...| 4190|    null|      null|       60|    null| null|       null|1480435959910|    230|\n",
      "|00433543cd1b9c6f4...|1-c15f12d63c9e36b...|12556|      11|acceptable|     null|      71| null|         88|1480435963217|   null|\n",
      "|00433543cd1b9c6f4...|1-8d197b3cf623835...|12561|      11|acceptable|     null|      74| null|         95|1480435968226|   null|\n",
      "|00433543cd1b9c6f4...|1-8aba52859f5b338...| 4195|    null|      null|       66|    null| null|       null|1480435974920|    244|\n",
      "|00433543cd1b9c6f4...|1-791b4f657f8e66f...| 4196|    null|      null|       71|    null| null|       null|1480435977922|    253|\n",
      "|00433543cd1b9c6f4...|1-74a604a89eab53e...|12598|      11|acceptable|     null|     170| null|         80|1480436005298|   null|\n",
      "|00433543cd1b9c6f4...|1-dab7cc1ae0b2fcc...|12606|      11|acceptable|     null|     186| null|         87|1480436013321|   null|\n",
      "|00433543cd1b9c6f4...|1-00e8ab9617cc3f2...| 2527|    null|      null|     null|    null| 1097|       null|1480436021887|   null|\n",
      "+--------------------+--------------------+-----+--------+----------+---------+--------+-----+-----------+-------------+-------+\n",
      "only showing top 20 rows\n",
      "\n"
     ]
    }
   ],
   "source": [
    "hostname = \"8c796a55-45f9-4cdc-bee1-ed0888207433-bluemix.cloudant.com\"\n",
    "user = \"8c796a55-45f9-4cdc-bee1-ed0888207433-bluemix\"\n",
    "pw = \"bac9ad70e306a08eb6d6e8bc998fa287df5c0efa9a8a8ff3a22438dc2d45651f\"\n",
    "database = \"washing\"\n",
    "cloudantdata=readDataFrameFromCloudant(hostname, user, pw, database)"
   ]
  },
  {
   "cell_type": "code",
   "execution_count": 53,
   "metadata": {
    "collapsed": false
   },
   "outputs": [
    {
     "data": {
      "text/plain": [
       "23270"
      ]
     },
     "execution_count": 53,
     "metadata": {},
     "output_type": "execute_result"
    }
   ],
   "source": [
    "count(cloudantdata)"
   ]
  },
  {
   "cell_type": "code",
   "execution_count": 54,
   "metadata": {
    "collapsed": false
   },
   "outputs": [
    {
     "data": {
      "text/plain": [
       "11"
      ]
     },
     "execution_count": 54,
     "metadata": {},
     "output_type": "execute_result"
    }
   ],
   "source": [
    "getNumberOfFields(cloudantdata)"
   ]
  },
  {
   "cell_type": "code",
   "execution_count": 55,
   "metadata": {
    "collapsed": false
   },
   "outputs": [
    {
     "data": {
      "text/plain": [
       "['_id',\n",
       " '_rev',\n",
       " 'count',\n",
       " 'flowrate',\n",
       " 'fluidlevel',\n",
       " 'frequency',\n",
       " 'hardness',\n",
       " 'speed',\n",
       " 'temperature',\n",
       " 'ts',\n",
       " 'voltage']"
      ]
     },
     "execution_count": 55,
     "metadata": {},
     "output_type": "execute_result"
    }
   ],
   "source": [
    "getFieldNames(cloudantdata)"
   ]
  }
 ],
 "metadata": {
  "kernelspec": {
   "display_name": "Python 2 with Spark 2.0",
   "language": "python",
   "name": "python2-spark20"
  },
  "language_info": {
   "codemirror_mode": {
    "name": "ipython",
    "version": 2
   },
   "file_extension": ".py",
   "mimetype": "text/x-python",
   "name": "python",
   "nbconvert_exporter": "python",
   "pygments_lexer": "ipython2",
   "version": "2.7.11"
  }
 },
 "nbformat": 4,
 "nbformat_minor": 0
}
