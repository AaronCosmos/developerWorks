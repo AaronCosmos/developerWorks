{
 "cells": [
  {
   "cell_type": "markdown",
   "metadata": {
    "collapsed": true
   },
   "source": [
    "### Please run the following cell once.\n",
    "This will install the Apache Bahir connector within your Project/Apache Spark service. If you restart the kernel or start a new notebook in the same project you can use Apache Bahir for connecting to the Cloudant/Apache CouchDB service. Please note that this will install a patched version of the connector (since the pull request hasn't been merged with the trunk yet).\n",
    "\n",
    "You'll find more information on the patch here:\n",
    "\n",
    "https://github.com/apache/bahir/pull/49\n",
    "https://issues.apache.org/jira/browse/BAHIR-130"
   ]
  },
  {
   "cell_type": "code",
   "execution_count": null,
   "metadata": {},
   "outputs": [],
   "source": [
    "import pixiedust\n",
    "pixiedust.installPackage(\"https://www.romeokienzler.com/spark-sql-cloudant_2.11-2.3.0-SNAPSHOT.jar\")\n",
    "pixiedust.installPackage(\"com.typesafe:config:1.3.1\")\n",
    "pixiedust.installPackage(\"com.typesafe.play:play-json_2.11:jar:2.5.9\")\n",
    "pixiedust.installPackage(\"org.scalaj:scalaj-http_2.11:jar:2.3.0\")\n",
    "pixiedust.installPackage(\"com.typesafe.play:play-functional_2.11:jar:2.5.9\")"
   ]
  }
 ],
 "metadata": {
  "kernelspec": {
   "display_name": "Python 2 with Spark 2.1",
   "language": "python",
   "name": "python2-spark21"
  },
  "language_info": {
   "codemirror_mode": {
    "name": "ipython",
    "version": 2
   },
   "file_extension": ".py",
   "mimetype": "text/x-python",
   "name": "python",
   "nbconvert_exporter": "python",
   "pygments_lexer": "ipython2",
   "version": "2.7.11"
  }
 },
 "nbformat": 4,
 "nbformat_minor": 1
}
