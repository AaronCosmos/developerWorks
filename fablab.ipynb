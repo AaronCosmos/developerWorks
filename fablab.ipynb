{
 "cells": [
  {
   "cell_type": "code",
   "execution_count": 13,
   "metadata": {
    "collapsed": false
   },
   "outputs": [
    {
     "data": {
      "text/plain": [
       "[Row(sensor_id=141, sensor_type=u'BME280', location=65, lat=48.779, lon=9.16, timestamp=datetime.datetime(2017, 6, 18, 0, 1, 33), pressure=99377.36, altitude=None, pressure_sealevel=None, temperature=20.65, humidity=61.46),\n",
       " Row(sensor_id=141, sensor_type=u'BME280', location=65, lat=48.779, lon=9.16, timestamp=datetime.datetime(2017, 6, 18, 0, 3, 59), pressure=99373.08, altitude=None, pressure_sealevel=None, temperature=20.63, humidity=61.32),\n",
       " Row(sensor_id=141, sensor_type=u'BME280', location=65, lat=48.779, lon=9.16, timestamp=datetime.datetime(2017, 6, 18, 0, 6, 25), pressure=99376.98, altitude=None, pressure_sealevel=None, temperature=20.58, humidity=61.55),\n",
       " Row(sensor_id=141, sensor_type=u'BME280', location=65, lat=48.779, lon=9.16, timestamp=datetime.datetime(2017, 6, 18, 0, 8, 51), pressure=99375.36, altitude=None, pressure_sealevel=None, temperature=20.62, humidity=60.92),\n",
       " Row(sensor_id=141, sensor_type=u'BME280', location=65, lat=48.779, lon=9.16, timestamp=datetime.datetime(2017, 6, 18, 0, 11, 17), pressure=99373.08, altitude=None, pressure_sealevel=None, temperature=20.69, humidity=60.88)]"
      ]
     },
     "execution_count": 13,
     "metadata": {},
     "output_type": "execute_result"
    }
   ],
   "source": [
    "\n",
    "from pyspark.sql import SparkSession\n",
    "\n",
    "# @hidden_cell\n",
    "# This function is used to setup the access of Spark to your Object Storage. The definition contains your credentials.\n",
    "# You might want to remove those credentials before you share your notebook.\n",
    "def set_hadoop_config_with_credentials_d3bd5b94a9334de59a55a7fed2bedeaa(name):\n",
    "    \"\"\"This function sets the Hadoop configuration so it is possible to\n",
    "    access data from Bluemix Object Storage using Spark\"\"\"\n",
    "\n",
    "    prefix = 'fs.swift.service.' + name\n",
    "    hconf = sc._jsc.hadoopConfiguration()\n",
    "    hconf.set(prefix + '.auth.url', 'https://identity.open.softlayer.com'+'/v3/auth/tokens')\n",
    "    hconf.set(prefix + '.auth.endpoint.prefix', 'endpoints')\n",
    "    hconf.set(prefix + '.tenant', '6aaf54352357483486ee2d4981f8ef15')\n",
    "    hconf.set(prefix + '.username', '9033afb2dbf04d06948d8a4947fd7b27')\n",
    "    hconf.set(prefix + '.password', 'SB1oYs/1Jxt*ND*}')\n",
    "    hconf.setInt(prefix + '.http.port', 8080)\n",
    "    hconf.set(prefix + '.region', 'dallas')\n",
    "    hconf.setBoolean(prefix + '.public', False)\n",
    "\n",
    "# you can choose any name\n",
    "name = 'keystone'\n",
    "set_hadoop_config_with_credentials_d3bd5b94a9334de59a55a7fed2bedeaa(name)\n",
    "\n",
    "spark = SparkSession.builder.getOrCreate()\n",
    "\n",
    "df_data_1 = spark.read\\\n",
    "  .format('org.apache.spark.sql.execution.datasources.csv.CSVFileFormat')\\\n",
    "  .option('header', 'true')\\\n",
    "  .option('inferSchema','true')\\\n",
    "  .option('delimiter',';')\\\n",
    "  .load('swift://fablab.' + name + '/2017-06-18_bme280_sensor_141.csv')\n",
    "df_data_1.take(5)\n"
   ]
  },
  {
   "cell_type": "code",
   "execution_count": 14,
   "metadata": {
    "collapsed": true
   },
   "outputs": [],
   "source": [
    "df_data_1.createOrReplaceTempView(\"data\")"
   ]
  },
  {
   "cell_type": "code",
   "execution_count": 15,
   "metadata": {
    "collapsed": false
   },
   "outputs": [
    {
     "name": "stdout",
     "output_type": "stream",
     "text": [
      "root\n",
      " |-- sensor_id: integer (nullable = true)\n",
      " |-- sensor_type: string (nullable = true)\n",
      " |-- location: integer (nullable = true)\n",
      " |-- lat: double (nullable = true)\n",
      " |-- lon: double (nullable = true)\n",
      " |-- timestamp: timestamp (nullable = true)\n",
      " |-- pressure: double (nullable = true)\n",
      " |-- altitude: string (nullable = true)\n",
      " |-- pressure_sealevel: string (nullable = true)\n",
      " |-- temperature: double (nullable = true)\n",
      " |-- humidity: double (nullable = true)\n",
      "\n"
     ]
    }
   ],
   "source": [
    "df_data_1.printSchema()"
   ]
  },
  {
   "cell_type": "code",
   "execution_count": 19,
   "metadata": {
    "collapsed": false
   },
   "outputs": [],
   "source": [
    "newdata = spark.sql(\"select timestamp,humidity,temperature from data\")"
   ]
  },
  {
   "cell_type": "code",
   "execution_count": 7,
   "metadata": {
    "collapsed": false
   },
   "outputs": [
    {
     "name": "stdout",
     "output_type": "stream",
     "text": [
      "Pixiedust database opened successfully\n",
      "Table VERSION_TRACKER created successfully\n"
     ]
    },
    {
     "data": {
      "text/html": [
       "\n",
       "        <div style=\"margin:10px\">\n",
       "            <a href=\"https://github.com/ibm-cds-labs/pixiedust\" target=\"_new\">\n",
       "                <img src=\"https://github.com/ibm-cds-labs/pixiedust/raw/master/docs/_static/pd_icon32.png\" style=\"float:left;margin-right:10px\"/>\n",
       "            </a>\n",
       "            <span>Pixiedust version 1.0.2</span>\n",
       "        </div>\n",
       "        "
      ],
      "text/plain": [
       "<IPython.core.display.HTML object>"
      ]
     },
     "metadata": {},
     "output_type": "display_data"
    },
    {
     "name": "stdout",
     "output_type": "stream",
     "text": [
      "Table USER_PREFERENCES created successfully\n"
     ]
    },
    {
     "data": {
      "text/html": [
       "<div>Warning: You are not running the latest version of PixieDust. Current is 1.0.2, Latest is 1.0.6</div>"
      ],
      "text/plain": [
       "<IPython.core.display.HTML object>"
      ]
     },
     "metadata": {},
     "output_type": "display_data"
    },
    {
     "data": {
      "text/html": [
       "\n",
       "                <div>Please copy and run the following command in a new cell to upgrade: <span style=\"background-color:#ececec;font-family:monospace;padding:0 5px\">!pip install --user --upgrade pixiedust</span></div>\n",
       "            "
      ],
      "text/plain": [
       "<IPython.core.display.HTML object>"
      ]
     },
     "metadata": {},
     "output_type": "display_data"
    },
    {
     "data": {
      "text/html": [
       "<div>Please restart kernel after upgrading.</div>"
      ],
      "text/plain": [
       "<IPython.core.display.HTML object>"
      ]
     },
     "metadata": {},
     "output_type": "display_data"
    }
   ],
   "source": [
    "import pixiedust"
   ]
  },
  {
   "cell_type": "code",
   "execution_count": 20,
   "metadata": {
    "collapsed": false,
    "pixiedust": {
     "displayParams": {
      "aggregation": "COUNT",
      "handlerId": "barChart",
      "keyFields": "temperature",
      "rowCount": "100",
      "valueFields": "humidity"
     }
    }
   },
   "outputs": [
    {
     "data": {
      "text/html": [
       "<style type=\"text/css\">.pd_warning{display:none;}</style><div class=\"pd_warning\"><em>Hey, there's something awesome here! To see it, open this notebook outside GitHub, in a viewer like Jupyter</em></div>\n",
       "        <div class=\"pd_save is-viewer-good\" style=\"padding-right:10px;text-align: center;line-height:initial !important;font-size: xx-large;font-weight: 500;color: coral;\">\n",
       "            \n",
       "        </div>\n",
       "    <div id=\"chartFigureeb9ffac3\" class=\"pd_save is-viewer-good\" style=\"overflow-x:auto\">\n",
       "            \n",
       "                    \n",
       "                            <center><img style=\"max-width:initial !important\" src=\"data:image/png;base64,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\" class=\"pd_save\"></center>\n",
       "                        \n",
       "                    \n",
       "                        <div>Some labels are not displayed because of a lack of space. Click on Stretch image to see them all</div>\n",
       "                    \n",
       "                \n",
       "        </div>"
      ],
      "text/plain": [
       "<IPython.core.display.HTML object>"
      ]
     },
     "metadata": {},
     "output_type": "display_data"
    }
   ],
   "source": [
    "display(newdata)"
   ]
  },
  {
   "cell_type": "code",
   "execution_count": null,
   "metadata": {
    "collapsed": true
   },
   "outputs": [],
   "source": []
  }
 ],
 "metadata": {
  "kernelspec": {
   "display_name": "Python 2 with Spark 2.1",
   "language": "python",
   "name": "python2-spark21"
  },
  "language_info": {
   "codemirror_mode": {
    "name": "ipython",
    "version": 2
   },
   "file_extension": ".py",
   "mimetype": "text/x-python",
   "name": "python",
   "nbconvert_exporter": "python",
   "pygments_lexer": "ipython2",
   "version": "2.7.11"
  }
 },
 "nbformat": 4,
 "nbformat_minor": 0
}